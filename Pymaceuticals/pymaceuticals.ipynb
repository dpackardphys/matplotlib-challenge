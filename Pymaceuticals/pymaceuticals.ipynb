{
 "cells": [
  {
   "cell_type": "markdown",
   "metadata": {},
   "source": [
    "## Observations and Insights \n",
    "### (1) The average tumor volume was observed to be lowest under the Capomulin and Ramicane regimens.\n",
    "### (2) Mouse s185, taking Capomulin, saw pronounced decrease in tumor volume over time.\n",
    "### (3) There is a strong positive correlation between mouse weight and average tumor size."
   ]
  },
  {
   "cell_type": "code",
   "execution_count": 1,
   "metadata": {},
   "outputs": [
    {
     "data": {
      "text/html": [
       "<div>\n",
       "<style scoped>\n",
       "    .dataframe tbody tr th:only-of-type {\n",
       "        vertical-align: middle;\n",
       "    }\n",
       "\n",
       "    .dataframe tbody tr th {\n",
       "        vertical-align: top;\n",
       "    }\n",
       "\n",
       "    .dataframe thead th {\n",
       "        text-align: right;\n",
       "    }\n",
       "</style>\n",
       "<table border=\"1\" class=\"dataframe\">\n",
       "  <thead>\n",
       "    <tr style=\"text-align: right;\">\n",
       "      <th></th>\n",
       "      <th>Mouse ID</th>\n",
       "      <th>Drug Regimen</th>\n",
       "      <th>Sex</th>\n",
       "      <th>Age_months</th>\n",
       "      <th>Weight (g)</th>\n",
       "      <th>Timepoint</th>\n",
       "      <th>Tumor Volume (mm3)</th>\n",
       "      <th>Metastatic Sites</th>\n",
       "    </tr>\n",
       "  </thead>\n",
       "  <tbody>\n",
       "    <tr>\n",
       "      <th>0</th>\n",
       "      <td>k403</td>\n",
       "      <td>Ramicane</td>\n",
       "      <td>Male</td>\n",
       "      <td>21</td>\n",
       "      <td>16</td>\n",
       "      <td>0</td>\n",
       "      <td>45.000000</td>\n",
       "      <td>0</td>\n",
       "    </tr>\n",
       "    <tr>\n",
       "      <th>1</th>\n",
       "      <td>k403</td>\n",
       "      <td>Ramicane</td>\n",
       "      <td>Male</td>\n",
       "      <td>21</td>\n",
       "      <td>16</td>\n",
       "      <td>5</td>\n",
       "      <td>38.825898</td>\n",
       "      <td>0</td>\n",
       "    </tr>\n",
       "    <tr>\n",
       "      <th>2</th>\n",
       "      <td>k403</td>\n",
       "      <td>Ramicane</td>\n",
       "      <td>Male</td>\n",
       "      <td>21</td>\n",
       "      <td>16</td>\n",
       "      <td>10</td>\n",
       "      <td>35.014271</td>\n",
       "      <td>1</td>\n",
       "    </tr>\n",
       "    <tr>\n",
       "      <th>3</th>\n",
       "      <td>k403</td>\n",
       "      <td>Ramicane</td>\n",
       "      <td>Male</td>\n",
       "      <td>21</td>\n",
       "      <td>16</td>\n",
       "      <td>15</td>\n",
       "      <td>34.223992</td>\n",
       "      <td>1</td>\n",
       "    </tr>\n",
       "    <tr>\n",
       "      <th>4</th>\n",
       "      <td>k403</td>\n",
       "      <td>Ramicane</td>\n",
       "      <td>Male</td>\n",
       "      <td>21</td>\n",
       "      <td>16</td>\n",
       "      <td>20</td>\n",
       "      <td>32.997729</td>\n",
       "      <td>1</td>\n",
       "    </tr>\n",
       "    <tr>\n",
       "      <th>...</th>\n",
       "      <td>...</td>\n",
       "      <td>...</td>\n",
       "      <td>...</td>\n",
       "      <td>...</td>\n",
       "      <td>...</td>\n",
       "      <td>...</td>\n",
       "      <td>...</td>\n",
       "      <td>...</td>\n",
       "    </tr>\n",
       "    <tr>\n",
       "      <th>1888</th>\n",
       "      <td>z969</td>\n",
       "      <td>Naftisol</td>\n",
       "      <td>Male</td>\n",
       "      <td>9</td>\n",
       "      <td>30</td>\n",
       "      <td>25</td>\n",
       "      <td>63.145652</td>\n",
       "      <td>2</td>\n",
       "    </tr>\n",
       "    <tr>\n",
       "      <th>1889</th>\n",
       "      <td>z969</td>\n",
       "      <td>Naftisol</td>\n",
       "      <td>Male</td>\n",
       "      <td>9</td>\n",
       "      <td>30</td>\n",
       "      <td>30</td>\n",
       "      <td>65.841013</td>\n",
       "      <td>3</td>\n",
       "    </tr>\n",
       "    <tr>\n",
       "      <th>1890</th>\n",
       "      <td>z969</td>\n",
       "      <td>Naftisol</td>\n",
       "      <td>Male</td>\n",
       "      <td>9</td>\n",
       "      <td>30</td>\n",
       "      <td>35</td>\n",
       "      <td>69.176246</td>\n",
       "      <td>4</td>\n",
       "    </tr>\n",
       "    <tr>\n",
       "      <th>1891</th>\n",
       "      <td>z969</td>\n",
       "      <td>Naftisol</td>\n",
       "      <td>Male</td>\n",
       "      <td>9</td>\n",
       "      <td>30</td>\n",
       "      <td>40</td>\n",
       "      <td>70.314904</td>\n",
       "      <td>4</td>\n",
       "    </tr>\n",
       "    <tr>\n",
       "      <th>1892</th>\n",
       "      <td>z969</td>\n",
       "      <td>Naftisol</td>\n",
       "      <td>Male</td>\n",
       "      <td>9</td>\n",
       "      <td>30</td>\n",
       "      <td>45</td>\n",
       "      <td>73.867845</td>\n",
       "      <td>4</td>\n",
       "    </tr>\n",
       "  </tbody>\n",
       "</table>\n",
       "<p>1893 rows × 8 columns</p>\n",
       "</div>"
      ],
      "text/plain": [
       "     Mouse ID Drug Regimen   Sex  Age_months  Weight (g)  Timepoint  \\\n",
       "0        k403     Ramicane  Male          21          16          0   \n",
       "1        k403     Ramicane  Male          21          16          5   \n",
       "2        k403     Ramicane  Male          21          16         10   \n",
       "3        k403     Ramicane  Male          21          16         15   \n",
       "4        k403     Ramicane  Male          21          16         20   \n",
       "...       ...          ...   ...         ...         ...        ...   \n",
       "1888     z969     Naftisol  Male           9          30         25   \n",
       "1889     z969     Naftisol  Male           9          30         30   \n",
       "1890     z969     Naftisol  Male           9          30         35   \n",
       "1891     z969     Naftisol  Male           9          30         40   \n",
       "1892     z969     Naftisol  Male           9          30         45   \n",
       "\n",
       "      Tumor Volume (mm3)  Metastatic Sites  \n",
       "0              45.000000                 0  \n",
       "1              38.825898                 0  \n",
       "2              35.014271                 1  \n",
       "3              34.223992                 1  \n",
       "4              32.997729                 1  \n",
       "...                  ...               ...  \n",
       "1888           63.145652                 2  \n",
       "1889           65.841013                 3  \n",
       "1890           69.176246                 4  \n",
       "1891           70.314904                 4  \n",
       "1892           73.867845                 4  \n",
       "\n",
       "[1893 rows x 8 columns]"
      ]
     },
     "execution_count": 1,
     "metadata": {},
     "output_type": "execute_result"
    }
   ],
   "source": [
    "# Dependencies and Setup\n",
    "import matplotlib.pyplot as plt\n",
    "import pandas as pd\n",
    "import scipy.stats as st\n",
    "import numpy as np\n",
    "\n",
    "# Study data files\n",
    "mouse_metadata_path = \"data/Mouse_metadata.csv\"\n",
    "study_results_path = \"data/Study_results.csv\"\n",
    "\n",
    "# Read the mouse data and the study results\n",
    "mouse_metadata = pd.read_csv(mouse_metadata_path)\n",
    "study_results = pd.read_csv(study_results_path)\n",
    "\n",
    "# Combine the data into a single dataset\n",
    "all_data = pd.merge(mouse_metadata,study_results)\n",
    "\n",
    "# Display the data table for preview\n",
    "all_data"
   ]
  },
  {
   "cell_type": "markdown",
   "metadata": {},
   "source": []
  },
  {
   "cell_type": "code",
   "execution_count": 2,
   "metadata": {},
   "outputs": [
    {
     "data": {
      "text/plain": [
       "249"
      ]
     },
     "execution_count": 2,
     "metadata": {},
     "output_type": "execute_result"
    }
   ],
   "source": [
    "# Checking the number of mice.\n",
    "mouse_count = len(mouse_metadata[\"Mouse ID\"])\n",
    "mouse_count"
   ]
  },
  {
   "cell_type": "code",
   "execution_count": 3,
   "metadata": {},
   "outputs": [
    {
     "data": {
      "text/html": [
       "<div>\n",
       "<style scoped>\n",
       "    .dataframe tbody tr th:only-of-type {\n",
       "        vertical-align: middle;\n",
       "    }\n",
       "\n",
       "    .dataframe tbody tr th {\n",
       "        vertical-align: top;\n",
       "    }\n",
       "\n",
       "    .dataframe thead th {\n",
       "        text-align: right;\n",
       "    }\n",
       "</style>\n",
       "<table border=\"1\" class=\"dataframe\">\n",
       "  <thead>\n",
       "    <tr style=\"text-align: right;\">\n",
       "      <th></th>\n",
       "      <th></th>\n",
       "      <th>Drug Regimen</th>\n",
       "      <th>Sex</th>\n",
       "      <th>Age_months</th>\n",
       "      <th>Weight (g)</th>\n",
       "      <th>Tumor Volume (mm3)</th>\n",
       "      <th>Metastatic Sites</th>\n",
       "    </tr>\n",
       "    <tr>\n",
       "      <th>Mouse ID</th>\n",
       "      <th>Timepoint</th>\n",
       "      <th></th>\n",
       "      <th></th>\n",
       "      <th></th>\n",
       "      <th></th>\n",
       "      <th></th>\n",
       "      <th></th>\n",
       "    </tr>\n",
       "  </thead>\n",
       "  <tbody>\n",
       "    <tr>\n",
       "      <th rowspan=\"5\" valign=\"top\">g989</th>\n",
       "      <th>0</th>\n",
       "      <td>2</td>\n",
       "      <td>2</td>\n",
       "      <td>2</td>\n",
       "      <td>2</td>\n",
       "      <td>2</td>\n",
       "      <td>2</td>\n",
       "    </tr>\n",
       "    <tr>\n",
       "      <th>5</th>\n",
       "      <td>2</td>\n",
       "      <td>2</td>\n",
       "      <td>2</td>\n",
       "      <td>2</td>\n",
       "      <td>2</td>\n",
       "      <td>2</td>\n",
       "    </tr>\n",
       "    <tr>\n",
       "      <th>10</th>\n",
       "      <td>2</td>\n",
       "      <td>2</td>\n",
       "      <td>2</td>\n",
       "      <td>2</td>\n",
       "      <td>2</td>\n",
       "      <td>2</td>\n",
       "    </tr>\n",
       "    <tr>\n",
       "      <th>15</th>\n",
       "      <td>2</td>\n",
       "      <td>2</td>\n",
       "      <td>2</td>\n",
       "      <td>2</td>\n",
       "      <td>2</td>\n",
       "      <td>2</td>\n",
       "    </tr>\n",
       "    <tr>\n",
       "      <th>20</th>\n",
       "      <td>2</td>\n",
       "      <td>2</td>\n",
       "      <td>2</td>\n",
       "      <td>2</td>\n",
       "      <td>2</td>\n",
       "      <td>2</td>\n",
       "    </tr>\n",
       "  </tbody>\n",
       "</table>\n",
       "</div>"
      ],
      "text/plain": [
       "                    Drug Regimen  Sex  Age_months  Weight (g)  \\\n",
       "Mouse ID Timepoint                                              \n",
       "g989     0                     2    2           2           2   \n",
       "         5                     2    2           2           2   \n",
       "         10                    2    2           2           2   \n",
       "         15                    2    2           2           2   \n",
       "         20                    2    2           2           2   \n",
       "\n",
       "                    Tumor Volume (mm3)  Metastatic Sites  \n",
       "Mouse ID Timepoint                                        \n",
       "g989     0                           2                 2  \n",
       "         5                           2                 2  \n",
       "         10                          2                 2  \n",
       "         15                          2                 2  \n",
       "         20                          2                 2  "
      ]
     },
     "execution_count": 3,
     "metadata": {},
     "output_type": "execute_result"
    }
   ],
   "source": [
    "# Getting the duplicate entries by mouse ID number that show up for Mouse ID and Timepoint. \n",
    "mouse_grouped = all_data.groupby([\"Mouse ID\", \"Timepoint\"]).count()\n",
    "mouse_grouped\n",
    "\n",
    "duplicate=mouse_grouped.loc[mouse_grouped[\"Drug Regimen\"]>1]\n",
    "duplicate\n",
    "#all_data.duplicated(subset=['Mouse ID','Timepoint'])\n",
    "#duplicates = all_data.loc[all_data.duplicated(subset=['Mouse ID','Timepoint'])==True]\n",
    "#duplicates\n",
    "    \n"
   ]
  },
  {
   "cell_type": "code",
   "execution_count": 4,
   "metadata": {},
   "outputs": [],
   "source": [
    "# Optional: Get all the data for the duplicate mouse ID. \n",
    "\n"
   ]
  },
  {
   "cell_type": "code",
   "execution_count": 5,
   "metadata": {},
   "outputs": [
    {
     "data": {
      "text/html": [
       "<div>\n",
       "<style scoped>\n",
       "    .dataframe tbody tr th:only-of-type {\n",
       "        vertical-align: middle;\n",
       "    }\n",
       "\n",
       "    .dataframe tbody tr th {\n",
       "        vertical-align: top;\n",
       "    }\n",
       "\n",
       "    .dataframe thead th {\n",
       "        text-align: right;\n",
       "    }\n",
       "</style>\n",
       "<table border=\"1\" class=\"dataframe\">\n",
       "  <thead>\n",
       "    <tr style=\"text-align: right;\">\n",
       "      <th></th>\n",
       "      <th>Mouse ID</th>\n",
       "      <th>Drug Regimen</th>\n",
       "      <th>Sex</th>\n",
       "      <th>Age_months</th>\n",
       "      <th>Weight (g)</th>\n",
       "      <th>Timepoint</th>\n",
       "      <th>Tumor Volume (mm3)</th>\n",
       "      <th>Metastatic Sites</th>\n",
       "    </tr>\n",
       "  </thead>\n",
       "  <tbody>\n",
       "    <tr>\n",
       "      <th>0</th>\n",
       "      <td>k403</td>\n",
       "      <td>Ramicane</td>\n",
       "      <td>Male</td>\n",
       "      <td>21</td>\n",
       "      <td>16</td>\n",
       "      <td>0</td>\n",
       "      <td>45.000000</td>\n",
       "      <td>0</td>\n",
       "    </tr>\n",
       "    <tr>\n",
       "      <th>1</th>\n",
       "      <td>k403</td>\n",
       "      <td>Ramicane</td>\n",
       "      <td>Male</td>\n",
       "      <td>21</td>\n",
       "      <td>16</td>\n",
       "      <td>5</td>\n",
       "      <td>38.825898</td>\n",
       "      <td>0</td>\n",
       "    </tr>\n",
       "    <tr>\n",
       "      <th>2</th>\n",
       "      <td>k403</td>\n",
       "      <td>Ramicane</td>\n",
       "      <td>Male</td>\n",
       "      <td>21</td>\n",
       "      <td>16</td>\n",
       "      <td>10</td>\n",
       "      <td>35.014271</td>\n",
       "      <td>1</td>\n",
       "    </tr>\n",
       "    <tr>\n",
       "      <th>3</th>\n",
       "      <td>k403</td>\n",
       "      <td>Ramicane</td>\n",
       "      <td>Male</td>\n",
       "      <td>21</td>\n",
       "      <td>16</td>\n",
       "      <td>15</td>\n",
       "      <td>34.223992</td>\n",
       "      <td>1</td>\n",
       "    </tr>\n",
       "    <tr>\n",
       "      <th>4</th>\n",
       "      <td>k403</td>\n",
       "      <td>Ramicane</td>\n",
       "      <td>Male</td>\n",
       "      <td>21</td>\n",
       "      <td>16</td>\n",
       "      <td>20</td>\n",
       "      <td>32.997729</td>\n",
       "      <td>1</td>\n",
       "    </tr>\n",
       "    <tr>\n",
       "      <th>5</th>\n",
       "      <td>k403</td>\n",
       "      <td>Ramicane</td>\n",
       "      <td>Male</td>\n",
       "      <td>21</td>\n",
       "      <td>16</td>\n",
       "      <td>25</td>\n",
       "      <td>33.464577</td>\n",
       "      <td>1</td>\n",
       "    </tr>\n",
       "    <tr>\n",
       "      <th>6</th>\n",
       "      <td>k403</td>\n",
       "      <td>Ramicane</td>\n",
       "      <td>Male</td>\n",
       "      <td>21</td>\n",
       "      <td>16</td>\n",
       "      <td>30</td>\n",
       "      <td>31.099498</td>\n",
       "      <td>1</td>\n",
       "    </tr>\n",
       "    <tr>\n",
       "      <th>7</th>\n",
       "      <td>k403</td>\n",
       "      <td>Ramicane</td>\n",
       "      <td>Male</td>\n",
       "      <td>21</td>\n",
       "      <td>16</td>\n",
       "      <td>35</td>\n",
       "      <td>26.546993</td>\n",
       "      <td>1</td>\n",
       "    </tr>\n",
       "    <tr>\n",
       "      <th>8</th>\n",
       "      <td>k403</td>\n",
       "      <td>Ramicane</td>\n",
       "      <td>Male</td>\n",
       "      <td>21</td>\n",
       "      <td>16</td>\n",
       "      <td>40</td>\n",
       "      <td>24.365505</td>\n",
       "      <td>1</td>\n",
       "    </tr>\n",
       "    <tr>\n",
       "      <th>9</th>\n",
       "      <td>k403</td>\n",
       "      <td>Ramicane</td>\n",
       "      <td>Male</td>\n",
       "      <td>21</td>\n",
       "      <td>16</td>\n",
       "      <td>45</td>\n",
       "      <td>22.050126</td>\n",
       "      <td>1</td>\n",
       "    </tr>\n",
       "    <tr>\n",
       "      <th>10</th>\n",
       "      <td>s185</td>\n",
       "      <td>Capomulin</td>\n",
       "      <td>Female</td>\n",
       "      <td>3</td>\n",
       "      <td>17</td>\n",
       "      <td>0</td>\n",
       "      <td>45.000000</td>\n",
       "      <td>0</td>\n",
       "    </tr>\n",
       "  </tbody>\n",
       "</table>\n",
       "</div>"
      ],
      "text/plain": [
       "   Mouse ID Drug Regimen     Sex  Age_months  Weight (g)  Timepoint  \\\n",
       "0      k403     Ramicane    Male          21          16          0   \n",
       "1      k403     Ramicane    Male          21          16          5   \n",
       "2      k403     Ramicane    Male          21          16         10   \n",
       "3      k403     Ramicane    Male          21          16         15   \n",
       "4      k403     Ramicane    Male          21          16         20   \n",
       "5      k403     Ramicane    Male          21          16         25   \n",
       "6      k403     Ramicane    Male          21          16         30   \n",
       "7      k403     Ramicane    Male          21          16         35   \n",
       "8      k403     Ramicane    Male          21          16         40   \n",
       "9      k403     Ramicane    Male          21          16         45   \n",
       "10     s185    Capomulin  Female           3          17          0   \n",
       "\n",
       "    Tumor Volume (mm3)  Metastatic Sites  \n",
       "0            45.000000                 0  \n",
       "1            38.825898                 0  \n",
       "2            35.014271                 1  \n",
       "3            34.223992                 1  \n",
       "4            32.997729                 1  \n",
       "5            33.464577                 1  \n",
       "6            31.099498                 1  \n",
       "7            26.546993                 1  \n",
       "8            24.365505                 1  \n",
       "9            22.050126                 1  \n",
       "10           45.000000                 0  "
      ]
     },
     "execution_count": 5,
     "metadata": {},
     "output_type": "execute_result"
    }
   ],
   "source": [
    "# Create a clean DataFrame by dropping the duplicate mouse by its ID.\n",
    "cleaned_data = all_data.loc[all_data[\"Mouse ID\"] != \"g989\"]\n",
    "cleaned_data.head(11)"
   ]
  },
  {
   "cell_type": "code",
   "execution_count": 6,
   "metadata": {},
   "outputs": [
    {
     "data": {
      "text/plain": [
       "248"
      ]
     },
     "execution_count": 6,
     "metadata": {},
     "output_type": "execute_result"
    }
   ],
   "source": [
    "# Checking the number of mice in the clean DataFrame.\n",
    "mouse_almostcount = cleaned_data[\"Mouse ID\"].unique()\n",
    "cleaned_mouse_count = len(mouse_almostcount)\n",
    "cleaned_mouse_count"
   ]
  },
  {
   "cell_type": "markdown",
   "metadata": {},
   "source": [
    "## Summary Statistics"
   ]
  },
  {
   "cell_type": "code",
   "execution_count": 7,
   "metadata": {},
   "outputs": [
    {
     "data": {
      "text/html": [
       "<style  type=\"text/css\" >\n",
       "</style><table id=\"T_fb38faec_0e2c_11ed_8ecb_1c3947d93c64\" ><caption>Tumor Volume (mm3)</caption><thead>    <tr>        <th class=\"blank level0\" ></th>        <th class=\"col_heading level0 col0\" >Mean</th>        <th class=\"col_heading level0 col1\" >Median</th>        <th class=\"col_heading level0 col2\" >Variance</th>        <th class=\"col_heading level0 col3\" >Standard Deviation</th>        <th class=\"col_heading level0 col4\" >SEM</th>    </tr>    <tr>        <th class=\"index_name level0\" >Drug Regimen</th>        <th class=\"blank\" ></th>        <th class=\"blank\" ></th>        <th class=\"blank\" ></th>        <th class=\"blank\" ></th>        <th class=\"blank\" ></th>    </tr></thead><tbody>\n",
       "                <tr>\n",
       "                        <th id=\"T_fb38faec_0e2c_11ed_8ecb_1c3947d93c64level0_row0\" class=\"row_heading level0 row0\" >Capomulin</th>\n",
       "                        <td id=\"T_fb38faec_0e2c_11ed_8ecb_1c3947d93c64row0_col0\" class=\"data row0 col0\" >40.675741</td>\n",
       "                        <td id=\"T_fb38faec_0e2c_11ed_8ecb_1c3947d93c64row0_col1\" class=\"data row0 col1\" >41.557809</td>\n",
       "                        <td id=\"T_fb38faec_0e2c_11ed_8ecb_1c3947d93c64row0_col2\" class=\"data row0 col2\" >24.947764</td>\n",
       "                        <td id=\"T_fb38faec_0e2c_11ed_8ecb_1c3947d93c64row0_col3\" class=\"data row0 col3\" >4.994774</td>\n",
       "                        <td id=\"T_fb38faec_0e2c_11ed_8ecb_1c3947d93c64row0_col4\" class=\"data row0 col4\" >0.329346</td>\n",
       "            </tr>\n",
       "            <tr>\n",
       "                        <th id=\"T_fb38faec_0e2c_11ed_8ecb_1c3947d93c64level0_row1\" class=\"row_heading level0 row1\" >Ceftamin</th>\n",
       "                        <td id=\"T_fb38faec_0e2c_11ed_8ecb_1c3947d93c64row1_col0\" class=\"data row1 col0\" >52.591172</td>\n",
       "                        <td id=\"T_fb38faec_0e2c_11ed_8ecb_1c3947d93c64row1_col1\" class=\"data row1 col1\" >51.776157</td>\n",
       "                        <td id=\"T_fb38faec_0e2c_11ed_8ecb_1c3947d93c64row1_col2\" class=\"data row1 col2\" >39.290177</td>\n",
       "                        <td id=\"T_fb38faec_0e2c_11ed_8ecb_1c3947d93c64row1_col3\" class=\"data row1 col3\" >6.268188</td>\n",
       "                        <td id=\"T_fb38faec_0e2c_11ed_8ecb_1c3947d93c64row1_col4\" class=\"data row1 col4\" >0.469821</td>\n",
       "            </tr>\n",
       "            <tr>\n",
       "                        <th id=\"T_fb38faec_0e2c_11ed_8ecb_1c3947d93c64level0_row2\" class=\"row_heading level0 row2\" >Infubinol</th>\n",
       "                        <td id=\"T_fb38faec_0e2c_11ed_8ecb_1c3947d93c64row2_col0\" class=\"data row2 col0\" >52.884795</td>\n",
       "                        <td id=\"T_fb38faec_0e2c_11ed_8ecb_1c3947d93c64row2_col1\" class=\"data row2 col1\" >51.820584</td>\n",
       "                        <td id=\"T_fb38faec_0e2c_11ed_8ecb_1c3947d93c64row2_col2\" class=\"data row2 col2\" >43.128684</td>\n",
       "                        <td id=\"T_fb38faec_0e2c_11ed_8ecb_1c3947d93c64row2_col3\" class=\"data row2 col3\" >6.567243</td>\n",
       "                        <td id=\"T_fb38faec_0e2c_11ed_8ecb_1c3947d93c64row2_col4\" class=\"data row2 col4\" >0.492236</td>\n",
       "            </tr>\n",
       "            <tr>\n",
       "                        <th id=\"T_fb38faec_0e2c_11ed_8ecb_1c3947d93c64level0_row3\" class=\"row_heading level0 row3\" >Ketapril</th>\n",
       "                        <td id=\"T_fb38faec_0e2c_11ed_8ecb_1c3947d93c64row3_col0\" class=\"data row3 col0\" >55.235638</td>\n",
       "                        <td id=\"T_fb38faec_0e2c_11ed_8ecb_1c3947d93c64row3_col1\" class=\"data row3 col1\" >53.698743</td>\n",
       "                        <td id=\"T_fb38faec_0e2c_11ed_8ecb_1c3947d93c64row3_col2\" class=\"data row3 col2\" >68.553577</td>\n",
       "                        <td id=\"T_fb38faec_0e2c_11ed_8ecb_1c3947d93c64row3_col3\" class=\"data row3 col3\" >8.279709</td>\n",
       "                        <td id=\"T_fb38faec_0e2c_11ed_8ecb_1c3947d93c64row3_col4\" class=\"data row3 col4\" >0.603860</td>\n",
       "            </tr>\n",
       "            <tr>\n",
       "                        <th id=\"T_fb38faec_0e2c_11ed_8ecb_1c3947d93c64level0_row4\" class=\"row_heading level0 row4\" >Naftisol</th>\n",
       "                        <td id=\"T_fb38faec_0e2c_11ed_8ecb_1c3947d93c64row4_col0\" class=\"data row4 col0\" >54.331565</td>\n",
       "                        <td id=\"T_fb38faec_0e2c_11ed_8ecb_1c3947d93c64row4_col1\" class=\"data row4 col1\" >52.509285</td>\n",
       "                        <td id=\"T_fb38faec_0e2c_11ed_8ecb_1c3947d93c64row4_col2\" class=\"data row4 col2\" >66.173479</td>\n",
       "                        <td id=\"T_fb38faec_0e2c_11ed_8ecb_1c3947d93c64row4_col3\" class=\"data row4 col3\" >8.134708</td>\n",
       "                        <td id=\"T_fb38faec_0e2c_11ed_8ecb_1c3947d93c64row4_col4\" class=\"data row4 col4\" >0.596466</td>\n",
       "            </tr>\n",
       "            <tr>\n",
       "                        <th id=\"T_fb38faec_0e2c_11ed_8ecb_1c3947d93c64level0_row5\" class=\"row_heading level0 row5\" >Placebo</th>\n",
       "                        <td id=\"T_fb38faec_0e2c_11ed_8ecb_1c3947d93c64row5_col0\" class=\"data row5 col0\" >54.033581</td>\n",
       "                        <td id=\"T_fb38faec_0e2c_11ed_8ecb_1c3947d93c64row5_col1\" class=\"data row5 col1\" >52.288934</td>\n",
       "                        <td id=\"T_fb38faec_0e2c_11ed_8ecb_1c3947d93c64row5_col2\" class=\"data row5 col2\" >61.168083</td>\n",
       "                        <td id=\"T_fb38faec_0e2c_11ed_8ecb_1c3947d93c64row5_col3\" class=\"data row5 col3\" >7.821003</td>\n",
       "                        <td id=\"T_fb38faec_0e2c_11ed_8ecb_1c3947d93c64row5_col4\" class=\"data row5 col4\" >0.581331</td>\n",
       "            </tr>\n",
       "            <tr>\n",
       "                        <th id=\"T_fb38faec_0e2c_11ed_8ecb_1c3947d93c64level0_row6\" class=\"row_heading level0 row6\" >Propriva</th>\n",
       "                        <td id=\"T_fb38faec_0e2c_11ed_8ecb_1c3947d93c64row6_col0\" class=\"data row6 col0\" >52.320930</td>\n",
       "                        <td id=\"T_fb38faec_0e2c_11ed_8ecb_1c3947d93c64row6_col1\" class=\"data row6 col1\" >50.446266</td>\n",
       "                        <td id=\"T_fb38faec_0e2c_11ed_8ecb_1c3947d93c64row6_col2\" class=\"data row6 col2\" >43.852013</td>\n",
       "                        <td id=\"T_fb38faec_0e2c_11ed_8ecb_1c3947d93c64row6_col3\" class=\"data row6 col3\" >6.622085</td>\n",
       "                        <td id=\"T_fb38faec_0e2c_11ed_8ecb_1c3947d93c64row6_col4\" class=\"data row6 col4\" >0.544332</td>\n",
       "            </tr>\n",
       "            <tr>\n",
       "                        <th id=\"T_fb38faec_0e2c_11ed_8ecb_1c3947d93c64level0_row7\" class=\"row_heading level0 row7\" >Ramicane</th>\n",
       "                        <td id=\"T_fb38faec_0e2c_11ed_8ecb_1c3947d93c64row7_col0\" class=\"data row7 col0\" >40.216745</td>\n",
       "                        <td id=\"T_fb38faec_0e2c_11ed_8ecb_1c3947d93c64row7_col1\" class=\"data row7 col1\" >40.673236</td>\n",
       "                        <td id=\"T_fb38faec_0e2c_11ed_8ecb_1c3947d93c64row7_col2\" class=\"data row7 col2\" >23.486704</td>\n",
       "                        <td id=\"T_fb38faec_0e2c_11ed_8ecb_1c3947d93c64row7_col3\" class=\"data row7 col3\" >4.846308</td>\n",
       "                        <td id=\"T_fb38faec_0e2c_11ed_8ecb_1c3947d93c64row7_col4\" class=\"data row7 col4\" >0.320955</td>\n",
       "            </tr>\n",
       "            <tr>\n",
       "                        <th id=\"T_fb38faec_0e2c_11ed_8ecb_1c3947d93c64level0_row8\" class=\"row_heading level0 row8\" >Stelasyn</th>\n",
       "                        <td id=\"T_fb38faec_0e2c_11ed_8ecb_1c3947d93c64row8_col0\" class=\"data row8 col0\" >54.233149</td>\n",
       "                        <td id=\"T_fb38faec_0e2c_11ed_8ecb_1c3947d93c64row8_col1\" class=\"data row8 col1\" >52.431737</td>\n",
       "                        <td id=\"T_fb38faec_0e2c_11ed_8ecb_1c3947d93c64row8_col2\" class=\"data row8 col2\" >59.450562</td>\n",
       "                        <td id=\"T_fb38faec_0e2c_11ed_8ecb_1c3947d93c64row8_col3\" class=\"data row8 col3\" >7.710419</td>\n",
       "                        <td id=\"T_fb38faec_0e2c_11ed_8ecb_1c3947d93c64row8_col4\" class=\"data row8 col4\" >0.573111</td>\n",
       "            </tr>\n",
       "            <tr>\n",
       "                        <th id=\"T_fb38faec_0e2c_11ed_8ecb_1c3947d93c64level0_row9\" class=\"row_heading level0 row9\" >Zoniferol</th>\n",
       "                        <td id=\"T_fb38faec_0e2c_11ed_8ecb_1c3947d93c64row9_col0\" class=\"data row9 col0\" >53.236507</td>\n",
       "                        <td id=\"T_fb38faec_0e2c_11ed_8ecb_1c3947d93c64row9_col1\" class=\"data row9 col1\" >51.818479</td>\n",
       "                        <td id=\"T_fb38faec_0e2c_11ed_8ecb_1c3947d93c64row9_col2\" class=\"data row9 col2\" >48.533355</td>\n",
       "                        <td id=\"T_fb38faec_0e2c_11ed_8ecb_1c3947d93c64row9_col3\" class=\"data row9 col3\" >6.966589</td>\n",
       "                        <td id=\"T_fb38faec_0e2c_11ed_8ecb_1c3947d93c64row9_col4\" class=\"data row9 col4\" >0.516398</td>\n",
       "            </tr>\n",
       "    </tbody></table>"
      ],
      "text/plain": [
       "<pandas.io.formats.style.Styler at 0x16d33729448>"
      ]
     },
     "execution_count": 7,
     "metadata": {},
     "output_type": "execute_result"
    }
   ],
   "source": [
    "# Generate a summary statistics table of mean, median, variance, standard deviation, \n",
    "# and SEM of the tumor volume for each regimen\n",
    "\n",
    "# Use groupby and summary statistical methods to calculate the following properties of each drug regimen: \n",
    "# mean, median, variance, standard deviation, and SEM of the tumor volume. \n",
    "# Assemble the resulting series into a single summary dataframe.\n",
    "data_grouped = cleaned_data.groupby([\"Drug Regimen\"])\n",
    "volume_mean = data_grouped.mean()[\"Tumor Volume (mm3)\"]\n",
    "volume_median = data_grouped.median()[\"Tumor Volume (mm3)\"]\n",
    "volume_variance = data_grouped.var()[\"Tumor Volume (mm3)\"]\n",
    "volume_stddev = data_grouped.std()[\"Tumor Volume (mm3)\"]\n",
    "volume_sem = data_grouped.sem()[\"Tumor Volume (mm3)\"]\n",
    "summary_df=pd.DataFrame({\"Mean\":volume_mean,\"Median\":volume_median,\"Variance\":volume_variance,\n",
    "                         \"Standard Deviation\":volume_stddev,\"SEM\":volume_sem})\n",
    "summary_df=summary_df.style.set_caption(\"Tumor Volume (mm3)\")\n",
    "summary_df"
   ]
  },
  {
   "cell_type": "code",
   "execution_count": 8,
   "metadata": {},
   "outputs": [
    {
     "data": {
      "text/html": [
       "<div>\n",
       "<style scoped>\n",
       "    .dataframe tbody tr th:only-of-type {\n",
       "        vertical-align: middle;\n",
       "    }\n",
       "\n",
       "    .dataframe tbody tr th {\n",
       "        vertical-align: top;\n",
       "    }\n",
       "\n",
       "    .dataframe thead tr th {\n",
       "        text-align: left;\n",
       "    }\n",
       "\n",
       "    .dataframe thead tr:last-of-type th {\n",
       "        text-align: right;\n",
       "    }\n",
       "</style>\n",
       "<table border=\"1\" class=\"dataframe\">\n",
       "  <thead>\n",
       "    <tr>\n",
       "      <th></th>\n",
       "      <th colspan=\"5\" halign=\"left\">Tumor Volume (mm3)</th>\n",
       "    </tr>\n",
       "    <tr>\n",
       "      <th></th>\n",
       "      <th>mean</th>\n",
       "      <th>median</th>\n",
       "      <th>var</th>\n",
       "      <th>std</th>\n",
       "      <th>sem</th>\n",
       "    </tr>\n",
       "    <tr>\n",
       "      <th>Drug Regimen</th>\n",
       "      <th></th>\n",
       "      <th></th>\n",
       "      <th></th>\n",
       "      <th></th>\n",
       "      <th></th>\n",
       "    </tr>\n",
       "  </thead>\n",
       "  <tbody>\n",
       "    <tr>\n",
       "      <th>Capomulin</th>\n",
       "      <td>40.675741</td>\n",
       "      <td>41.557809</td>\n",
       "      <td>24.947764</td>\n",
       "      <td>4.994774</td>\n",
       "      <td>0.329346</td>\n",
       "    </tr>\n",
       "    <tr>\n",
       "      <th>Ceftamin</th>\n",
       "      <td>52.591172</td>\n",
       "      <td>51.776157</td>\n",
       "      <td>39.290177</td>\n",
       "      <td>6.268188</td>\n",
       "      <td>0.469821</td>\n",
       "    </tr>\n",
       "    <tr>\n",
       "      <th>Infubinol</th>\n",
       "      <td>52.884795</td>\n",
       "      <td>51.820584</td>\n",
       "      <td>43.128684</td>\n",
       "      <td>6.567243</td>\n",
       "      <td>0.492236</td>\n",
       "    </tr>\n",
       "    <tr>\n",
       "      <th>Ketapril</th>\n",
       "      <td>55.235638</td>\n",
       "      <td>53.698743</td>\n",
       "      <td>68.553577</td>\n",
       "      <td>8.279709</td>\n",
       "      <td>0.603860</td>\n",
       "    </tr>\n",
       "    <tr>\n",
       "      <th>Naftisol</th>\n",
       "      <td>54.331565</td>\n",
       "      <td>52.509285</td>\n",
       "      <td>66.173479</td>\n",
       "      <td>8.134708</td>\n",
       "      <td>0.596466</td>\n",
       "    </tr>\n",
       "    <tr>\n",
       "      <th>Placebo</th>\n",
       "      <td>54.033581</td>\n",
       "      <td>52.288934</td>\n",
       "      <td>61.168083</td>\n",
       "      <td>7.821003</td>\n",
       "      <td>0.581331</td>\n",
       "    </tr>\n",
       "    <tr>\n",
       "      <th>Propriva</th>\n",
       "      <td>52.320930</td>\n",
       "      <td>50.446266</td>\n",
       "      <td>43.852013</td>\n",
       "      <td>6.622085</td>\n",
       "      <td>0.544332</td>\n",
       "    </tr>\n",
       "    <tr>\n",
       "      <th>Ramicane</th>\n",
       "      <td>40.216745</td>\n",
       "      <td>40.673236</td>\n",
       "      <td>23.486704</td>\n",
       "      <td>4.846308</td>\n",
       "      <td>0.320955</td>\n",
       "    </tr>\n",
       "    <tr>\n",
       "      <th>Stelasyn</th>\n",
       "      <td>54.233149</td>\n",
       "      <td>52.431737</td>\n",
       "      <td>59.450562</td>\n",
       "      <td>7.710419</td>\n",
       "      <td>0.573111</td>\n",
       "    </tr>\n",
       "    <tr>\n",
       "      <th>Zoniferol</th>\n",
       "      <td>53.236507</td>\n",
       "      <td>51.818479</td>\n",
       "      <td>48.533355</td>\n",
       "      <td>6.966589</td>\n",
       "      <td>0.516398</td>\n",
       "    </tr>\n",
       "  </tbody>\n",
       "</table>\n",
       "</div>"
      ],
      "text/plain": [
       "             Tumor Volume (mm3)                                          \n",
       "                           mean     median        var       std       sem\n",
       "Drug Regimen                                                             \n",
       "Capomulin             40.675741  41.557809  24.947764  4.994774  0.329346\n",
       "Ceftamin              52.591172  51.776157  39.290177  6.268188  0.469821\n",
       "Infubinol             52.884795  51.820584  43.128684  6.567243  0.492236\n",
       "Ketapril              55.235638  53.698743  68.553577  8.279709  0.603860\n",
       "Naftisol              54.331565  52.509285  66.173479  8.134708  0.596466\n",
       "Placebo               54.033581  52.288934  61.168083  7.821003  0.581331\n",
       "Propriva              52.320930  50.446266  43.852013  6.622085  0.544332\n",
       "Ramicane              40.216745  40.673236  23.486704  4.846308  0.320955\n",
       "Stelasyn              54.233149  52.431737  59.450562  7.710419  0.573111\n",
       "Zoniferol             53.236507  51.818479  48.533355  6.966589  0.516398"
      ]
     },
     "execution_count": 8,
     "metadata": {},
     "output_type": "execute_result"
    }
   ],
   "source": [
    "# Generate a summary statistics table of mean, median, variance, standard deviation, and SEM of the tumor volume for each regimen\n",
    "\n",
    "# Using the aggregation method, produce the same summary statistics in a single line\n",
    "##I looked up the DataFrame.agg() method in the pandas docs\n",
    "summary_df2 = cleaned_data.groupby(\"Drug Regimen\").agg({\"Tumor Volume (mm3)\":['mean','median','var','std','sem']})\n",
    "summary_df2"
   ]
  },
  {
   "cell_type": "markdown",
   "metadata": {},
   "source": [
    "## Bar and Pie Charts"
   ]
  },
  {
   "cell_type": "code",
   "execution_count": 9,
   "metadata": {},
   "outputs": [
    {
     "data": {
      "text/plain": [
       "<matplotlib.axes._subplots.AxesSubplot at 0x16d33937a88>"
      ]
     },
     "execution_count": 9,
     "metadata": {},
     "output_type": "execute_result"
    },
    {
     "data": {
      "image/png": "[encoded data removed]",
      "text/plain": [
       "<Figure size 432x288 with 1 Axes>"
      ]
     },
     "metadata": {
      "needs_background": "light"
     },
     "output_type": "display_data"
    }
   ],
   "source": [
    "# Generate a bar plot showing the total number of timepoints for all mice tested for each drug regimen using Pandas.\n",
    "data_by_drug = cleaned_data.groupby(\"Drug Regimen\")\n",
    "data_time_counted = data_by_drug.count()\n",
    "data_time_counted.plot.bar(y=\"Timepoint\", rot=45)\n",
    "\n"
   ]
  },
  {
   "cell_type": "code",
   "execution_count": 10,
   "metadata": {},
   "outputs": [
    {
     "data": {
      "text/plain": [
       "(array([0, 1, 2, 3, 4, 5, 6, 7, 8, 9]),\n",
       " <a list of 10 Text major ticklabel objects>)"
      ]
     },
     "execution_count": 10,
     "metadata": {},
     "output_type": "execute_result"
    },
    {
     "data": {
      "image/png": "[encoded data removed]",
      "text/plain": [
       "<Figure size 432x288 with 1 Axes>"
      ]
     },
     "metadata": {
      "needs_background": "light"
     },
     "output_type": "display_data"
    }
   ],
   "source": [
    "# Generate a bar plot showing the total number of timepoints for all mice tested for each drug regimen using pyplot.\n",
    "drugs = [drug for drug in cleaned_data[\"Drug Regimen\"].unique()]\n",
    "x_axis = np.arange(len(drugs))\n",
    "plt.bar(x=x_axis,height=data_time_counted[\"Timepoint\"], tick_label = drugs, width=0.5)\n",
    "plt.xticks(rotation=45)"
   ]
  },
  {
   "cell_type": "code",
   "execution_count": 11,
   "metadata": {},
   "outputs": [
    {
     "data": {
      "text/plain": [
       "<matplotlib.axes._subplots.AxesSubplot at 0x16d33d42308>"
      ]
     },
     "execution_count": 11,
     "metadata": {},
     "output_type": "execute_result"
    },
    {
     "data": {
      "image/png": "[encoded data removed]",
      "text/plain": [
       "<Figure size 360x360 with 1 Axes>"
      ]
     },
     "metadata": {},
     "output_type": "display_data"
    }
   ],
   "source": [
    "# Generate a pie plot showing the distribution of female versus male mice using Pandas\n",
    "data_by_sex = cleaned_data.groupby(\"Sex\")\n",
    "data_sex_counted = data_by_sex.count()\n",
    "data_sex_counted.plot.pie(y=\"Mouse ID\", figsize=(5,5))\n"
   ]
  },
  {
   "cell_type": "code",
   "execution_count": 12,
   "metadata": {},
   "outputs": [
    {
     "data": {
      "text/plain": [
       "([<matplotlib.patches.Wedge at 0x16d33d44f88>,\n",
       "  <matplotlib.patches.Wedge at 0x16d33c46e08>],\n",
       " [Text(0.0413525176032695, 1.374378029978605, 'Female'),\n",
       "  Text(-0.04135251760326937, -1.374378029978605, 'Male')])"
      ]
     },
     "execution_count": 12,
     "metadata": {},
     "output_type": "execute_result"
    },
    {
     "data": {
      "image/png": "[encoded data removed]",
      "text/plain": [
       "<Figure size 432x288 with 1 Axes>"
      ]
     },
     "metadata": {},
     "output_type": "display_data"
    }
   ],
   "source": [
    "# Generate a pie plot showing the distribution of female versus male mice using pyplot\n",
    "sexes = [\"Female\", \"Male\"]\n",
    "plt.pie(x=data_sex_counted[\"Mouse ID\"],labels=sexes,radius=1.25)"
   ]
  },
  {
   "cell_type": "markdown",
   "metadata": {},
   "source": [
    "## Quartiles, Outliers and Boxplots"
   ]
  },
  {
   "cell_type": "code",
   "execution_count": 13,
   "metadata": {},
   "outputs": [
    {
     "name": "stdout",
     "output_type": "stream",
     "text": [
      "23.34359787\n"
     ]
    },
    {
     "data": {
      "text/html": [
       "<div>\n",
       "<style scoped>\n",
       "    .dataframe tbody tr th:only-of-type {\n",
       "        vertical-align: middle;\n",
       "    }\n",
       "\n",
       "    .dataframe tbody tr th {\n",
       "        vertical-align: top;\n",
       "    }\n",
       "\n",
       "    .dataframe thead th {\n",
       "        text-align: right;\n",
       "    }\n",
       "</style>\n",
       "<table border=\"1\" class=\"dataframe\">\n",
       "  <thead>\n",
       "    <tr style=\"text-align: right;\">\n",
       "      <th></th>\n",
       "      <th>Mouse ID</th>\n",
       "      <th>Drug Regimen</th>\n",
       "      <th>Sex</th>\n",
       "      <th>Age_months</th>\n",
       "      <th>Weight (g)</th>\n",
       "      <th>Timepoint_x</th>\n",
       "      <th>Tumor Volume (mm3)</th>\n",
       "      <th>Metastatic Sites</th>\n",
       "      <th>Timepoint_y</th>\n",
       "    </tr>\n",
       "  </thead>\n",
       "  <tbody>\n",
       "    <tr>\n",
       "      <th>9</th>\n",
       "      <td>k403</td>\n",
       "      <td>Ramicane</td>\n",
       "      <td>Male</td>\n",
       "      <td>21</td>\n",
       "      <td>16</td>\n",
       "      <td>45</td>\n",
       "      <td>22.050126</td>\n",
       "      <td>1</td>\n",
       "      <td>45</td>\n",
       "    </tr>\n",
       "    <tr>\n",
       "      <th>19</th>\n",
       "      <td>s185</td>\n",
       "      <td>Capomulin</td>\n",
       "      <td>Female</td>\n",
       "      <td>3</td>\n",
       "      <td>17</td>\n",
       "      <td>45</td>\n",
       "      <td>23.343598</td>\n",
       "      <td>1</td>\n",
       "      <td>45</td>\n",
       "    </tr>\n",
       "    <tr>\n",
       "      <th>29</th>\n",
       "      <td>x401</td>\n",
       "      <td>Capomulin</td>\n",
       "      <td>Female</td>\n",
       "      <td>16</td>\n",
       "      <td>15</td>\n",
       "      <td>45</td>\n",
       "      <td>28.484033</td>\n",
       "      <td>0</td>\n",
       "      <td>45</td>\n",
       "    </tr>\n",
       "    <tr>\n",
       "      <th>39</th>\n",
       "      <td>m601</td>\n",
       "      <td>Capomulin</td>\n",
       "      <td>Male</td>\n",
       "      <td>22</td>\n",
       "      <td>17</td>\n",
       "      <td>45</td>\n",
       "      <td>28.430964</td>\n",
       "      <td>1</td>\n",
       "      <td>45</td>\n",
       "    </tr>\n",
       "    <tr>\n",
       "      <th>49</th>\n",
       "      <td>g791</td>\n",
       "      <td>Ramicane</td>\n",
       "      <td>Male</td>\n",
       "      <td>11</td>\n",
       "      <td>16</td>\n",
       "      <td>45</td>\n",
       "      <td>29.128472</td>\n",
       "      <td>1</td>\n",
       "      <td>45</td>\n",
       "    </tr>\n",
       "    <tr>\n",
       "      <th>...</th>\n",
       "      <td>...</td>\n",
       "      <td>...</td>\n",
       "      <td>...</td>\n",
       "      <td>...</td>\n",
       "      <td>...</td>\n",
       "      <td>...</td>\n",
       "      <td>...</td>\n",
       "      <td>...</td>\n",
       "      <td>...</td>\n",
       "    </tr>\n",
       "    <tr>\n",
       "      <th>1846</th>\n",
       "      <td>z314</td>\n",
       "      <td>Stelasyn</td>\n",
       "      <td>Female</td>\n",
       "      <td>21</td>\n",
       "      <td>28</td>\n",
       "      <td>5</td>\n",
       "      <td>45.934712</td>\n",
       "      <td>0</td>\n",
       "      <td>5</td>\n",
       "    </tr>\n",
       "    <tr>\n",
       "      <th>1849</th>\n",
       "      <td>z435</td>\n",
       "      <td>Propriva</td>\n",
       "      <td>Female</td>\n",
       "      <td>12</td>\n",
       "      <td>26</td>\n",
       "      <td>10</td>\n",
       "      <td>48.710661</td>\n",
       "      <td>0</td>\n",
       "      <td>10</td>\n",
       "    </tr>\n",
       "    <tr>\n",
       "      <th>1859</th>\n",
       "      <td>z581</td>\n",
       "      <td>Infubinol</td>\n",
       "      <td>Female</td>\n",
       "      <td>24</td>\n",
       "      <td>25</td>\n",
       "      <td>45</td>\n",
       "      <td>62.754451</td>\n",
       "      <td>3</td>\n",
       "      <td>45</td>\n",
       "    </tr>\n",
       "    <tr>\n",
       "      <th>1869</th>\n",
       "      <td>z795</td>\n",
       "      <td>Naftisol</td>\n",
       "      <td>Female</td>\n",
       "      <td>13</td>\n",
       "      <td>29</td>\n",
       "      <td>45</td>\n",
       "      <td>65.741070</td>\n",
       "      <td>3</td>\n",
       "      <td>45</td>\n",
       "    </tr>\n",
       "    <tr>\n",
       "      <th>1879</th>\n",
       "      <td>z969</td>\n",
       "      <td>Naftisol</td>\n",
       "      <td>Male</td>\n",
       "      <td>9</td>\n",
       "      <td>30</td>\n",
       "      <td>45</td>\n",
       "      <td>73.867845</td>\n",
       "      <td>4</td>\n",
       "      <td>45</td>\n",
       "    </tr>\n",
       "  </tbody>\n",
       "</table>\n",
       "<p>248 rows × 9 columns</p>\n",
       "</div>"
      ],
      "text/plain": [
       "     Mouse ID Drug Regimen     Sex  Age_months  Weight (g)  Timepoint_x  \\\n",
       "9        k403     Ramicane    Male          21          16           45   \n",
       "19       s185    Capomulin  Female           3          17           45   \n",
       "29       x401    Capomulin  Female          16          15           45   \n",
       "39       m601    Capomulin    Male          22          17           45   \n",
       "49       g791     Ramicane    Male          11          16           45   \n",
       "...       ...          ...     ...         ...         ...          ...   \n",
       "1846     z314     Stelasyn  Female          21          28            5   \n",
       "1849     z435     Propriva  Female          12          26           10   \n",
       "1859     z581    Infubinol  Female          24          25           45   \n",
       "1869     z795     Naftisol  Female          13          29           45   \n",
       "1879     z969     Naftisol    Male           9          30           45   \n",
       "\n",
       "      Tumor Volume (mm3)  Metastatic Sites  Timepoint_y  \n",
       "9              22.050126                 1           45  \n",
       "19             23.343598                 1           45  \n",
       "29             28.484033                 0           45  \n",
       "39             28.430964                 1           45  \n",
       "49             29.128472                 1           45  \n",
       "...                  ...               ...          ...  \n",
       "1846           45.934712                 0            5  \n",
       "1849           48.710661                 0           10  \n",
       "1859           62.754451                 3           45  \n",
       "1869           65.741070                 3           45  \n",
       "1879           73.867845                 4           45  \n",
       "\n",
       "[248 rows x 9 columns]"
      ]
     },
     "execution_count": 13,
     "metadata": {},
     "output_type": "execute_result"
    }
   ],
   "source": [
    "# Calculate the final tumor volume of each mouse across four of the treatment regimens:  \n",
    "# Capomulin, Ramicane, Infubinol, and Ceftamin\n",
    "\n",
    "# Start by getting the last (greatest) timepoint for each mouse\n",
    "last_times = cleaned_data.groupby(\"Mouse ID\")[\"Timepoint\"].max()\n",
    "\n",
    "# Merge this group df with the original dataframe to get the tumor volume at the last timepoint\n",
    "merged_data = cleaned_data.merge(last_times,how=\"left\", on=\"Mouse ID\")\n",
    "merged_data=merged_data.loc[merged_data[\"Timepoint_x\"] == merged_data[\"Timepoint_y\"]]\n",
    "print(merged_data.iloc[1,6])\n",
    "merged_data\n"
   ]
  },
  {
   "cell_type": "code",
   "execution_count": 14,
   "metadata": {},
   "outputs": [
    {
     "data": {
      "text/plain": [
       "[23.34359787,\n",
       " 28.48403281,\n",
       " 28.43096411,\n",
       " 30.48598484,\n",
       " 31.02392294,\n",
       " 31.896238399999998,\n",
       " 32.37735684,\n",
       " 33.32909778,\n",
       " 34.45529799,\n",
       " 37.31184577,\n",
       " 36.04104736,\n",
       " 37.07402422,\n",
       " 38.84687569,\n",
       " 38.93963263,\n",
       " 38.98287774,\n",
       " 38.75326548,\n",
       " 38.125164399999996,\n",
       " 39.95234669,\n",
       " 40.65812366,\n",
       " 40.1592203,\n",
       " 40.72857787,\n",
       " 41.48300765,\n",
       " 41.58152074,\n",
       " 47.68596303,\n",
       " 46.53920617]"
      ]
     },
     "execution_count": 14,
     "metadata": {},
     "output_type": "execute_result"
    }
   ],
   "source": [
    "# Put treatments into a list for a for loop (and later for plot labels)\n",
    "four_drugs = ['Capomulin', 'Ramicane', 'Infubinol', 'Ceftamin']\n",
    "\n",
    "# Create empty list to fill with tumor vol data (for plotting)\n",
    "last_tumor_vol=[]\n",
    "\n",
    "# Calculate the IQR and quantitatively determine if there are any potential outliers. \n",
    "\n",
    "for drug in four_drugs:\n",
    "    tumor_vol_drug = []\n",
    "    # Locate the rows which contain mice on each drug and get the tumor volumes\n",
    "    for i in np.arange(0,len(merged_data[\"Mouse ID\"])):\n",
    "        if merged_data.iloc[i,1] == drug:\n",
    "            #print(\"got here\")\n",
    "            tumor_vol = merged_data.iloc[i,6]\n",
    "            tumor_vol_drug.append(tumor_vol)\n",
    "    # add subset \n",
    "    last_tumor_vol.append(tumor_vol_drug)\n",
    "last_tumor_vol[0]\n",
    "\n"
   ]
  },
  {
   "cell_type": "code",
   "execution_count": 15,
   "metadata": {},
   "outputs": [
    {
     "name": "stdout",
     "output_type": "stream",
     "text": [
      "Values below Last Tumor Voume (Capomulin)(mm3)    20.704562\n",
      "dtype: float64 could be outliers.\n",
      "Values above Last Tumor Voume (Capomulin)(mm3)    51.832015\n",
      "dtype: float64 could be outliers.\n"
     ]
    },
    {
     "data": {
      "text/plain": [
       "[23.34359787,\n",
       " 28.43096411,\n",
       " 28.48403281,\n",
       " 30.48598484,\n",
       " 31.02392294,\n",
       " 31.896238399999998,\n",
       " 32.37735684,\n",
       " 33.32909778,\n",
       " 34.45529799,\n",
       " 36.04104736,\n",
       " 37.07402422,\n",
       " 37.31184577,\n",
       " 38.125164399999996,\n",
       " 38.75326548,\n",
       " 38.84687569,\n",
       " 38.93963263,\n",
       " 38.98287774,\n",
       " 39.95234669,\n",
       " 40.1592203,\n",
       " 40.65812366,\n",
       " 40.72857787,\n",
       " 41.48300765,\n",
       " 41.58152074,\n",
       " 46.53920617,\n",
       " 47.68596303]"
      ]
     },
     "execution_count": 15,
     "metadata": {},
     "output_type": "execute_result"
    }
   ],
   "source": [
    "# Determine outliers using upper and lower bounds\n",
    "last_tumor_cap_df = pd.DataFrame({\"Last Tumor Voume (Capomulin)(mm3)\":last_tumor_vol[0]})\n",
    "quartiles_cap = last_tumor_cap_df.quantile([.25,.5,.75])\n",
    "lowerq_cap = quartiles_cap.loc[0.25]\n",
    "upperq_cap = quartiles_cap.loc[0.75]\n",
    "iqr_cap = upperq_cap-lowerq_cap\n",
    "lower_bound_cap = lowerq_cap - (1.5*iqr_cap)\n",
    "upper_bound_cap = upperq_cap + (1.5*iqr_cap)\n",
    "print(f\"Values below {lower_bound_cap} could be outliers.\")\n",
    "print(f\"Values above {upper_bound_cap} could be outliers.\")\n",
    "volumes_cap = list(last_tumor_cap_df[\"Last Tumor Voume (Capomulin)(mm3)\"])\n",
    "volumes_cap.sort()\n",
    "volumes_cap #all Capomulin datapoints are within bounds\n"
   ]
  },
  {
   "cell_type": "code",
   "execution_count": 16,
   "metadata": {},
   "outputs": [
    {
     "name": "stdout",
     "output_type": "stream",
     "text": [
      "Values below Last Tumor Voume (Ramicane)(mm3)    17.912664\n",
      "dtype: float64 could be outliers.\n",
      "Values above Last Tumor Voume (Ramicane)(mm3)    54.306811\n",
      "dtype: float64 could be outliers.\n"
     ]
    },
    {
     "data": {
      "text/plain": [
       "[22.05012627,\n",
       " 29.12847181,\n",
       " 30.27623175,\n",
       " 30.56462509,\n",
       " 30.63869575,\n",
       " 31.09533505,\n",
       " 31.56046955,\n",
       " 32.97852192,\n",
       " 33.39765251,\n",
       " 33.56240217,\n",
       " 36.13485243,\n",
       " 36.37451039,\n",
       " 36.56165229,\n",
       " 37.22565033,\n",
       " 37.31123552,\n",
       " 38.34200823,\n",
       " 38.407618299999996,\n",
       " 38.81036633,\n",
       " 40.65900627,\n",
       " 40.66771292,\n",
       " 43.04754260000001,\n",
       " 43.16637266,\n",
       " 43.41938077,\n",
       " 44.18345092,\n",
       " 45.22086888]"
      ]
     },
     "execution_count": 16,
     "metadata": {},
     "output_type": "execute_result"
    }
   ],
   "source": [
    "last_tumor_ram_df = pd.DataFrame({\"Last Tumor Voume (Ramicane)(mm3)\":last_tumor_vol[1]})\n",
    "quartiles_ram = last_tumor_ram_df.quantile([.25,.5,.75])\n",
    "lowerq_ram = quartiles_ram.loc[0.25]\n",
    "upperq_ram = quartiles_ram.loc[0.75]\n",
    "iqr_ram = upperq_ram - lowerq_ram\n",
    "lower_bound_ram = lowerq_ram - (1.5*iqr_ram)\n",
    "upper_bound_ram = upperq_ram + (1.5*iqr_ram)\n",
    "print(f\"Values below {lower_bound_ram} could be outliers.\")\n",
    "print(f\"Values above {upper_bound_ram} could be outliers.\")\n",
    "volumes_ram = list(last_tumor_ram_df[\"Last Tumor Voume (Ramicane)(mm3)\"])\n",
    "volumes_ram.sort()\n",
    "volumes_ram #all Ramicane datapoints are within bounds\n"
   ]
  },
  {
   "cell_type": "code",
   "execution_count": 17,
   "metadata": {},
   "outputs": [
    {
     "name": "stdout",
     "output_type": "stream",
     "text": [
      "Values below Last Tumor Voume (Infubinol)(mm3)    36.832905\n",
      "dtype: float64 could be outliers.\n",
      "Values above Last Tumor Voume (Infubinol)(mm3)    82.741446\n",
      "dtype: float64 could be outliers.\n"
     ]
    },
    {
     "data": {
      "text/plain": [
       "[45.69933088,\n",
       " 46.25011212,\n",
       " 47.01036401,\n",
       " 50.00513807,\n",
       " 51.54243058,\n",
       " 54.04860769,\n",
       " 54.65654872,\n",
       " 55.62942846,\n",
       " 55.65068132,\n",
       " 57.03186187,\n",
       " 58.26844248,\n",
       " 60.16518046,\n",
       " 60.91876652,\n",
       " 60.96971133,\n",
       " 62.11727887,\n",
       " 62.43540402,\n",
       " 62.75445141,\n",
       " 65.52574285,\n",
       " 66.08306589,\n",
       " 66.19691151,\n",
       " 67.28962147,\n",
       " 67.68556862,\n",
       " 67.97341878,\n",
       " 72.2267309]"
      ]
     },
     "execution_count": 17,
     "metadata": {},
     "output_type": "execute_result"
    }
   ],
   "source": [
    "last_tumor_inf_df = pd.DataFrame({\"Last Tumor Voume (Infubinol)(mm3)\":last_tumor_vol[2]})\n",
    "quartiles_inf = last_tumor_inf_df.quantile([.25,.5,.75])\n",
    "lowerq_inf = quartiles_inf.loc[0.25]\n",
    "upperq_inf = quartiles_inf.loc[0.75]\n",
    "iqr_inf = upperq_inf - lowerq_inf\n",
    "lower_bound_inf = lowerq_inf - (1.5*iqr_inf)\n",
    "upper_bound_inf = upperq_inf + (1.5*iqr_inf)\n",
    "print(f\"Values below {lower_bound_inf} could be outliers.\")\n",
    "print(f\"Values above {upper_bound_inf} could be outliers.\")\n",
    "volumes_inf = list(last_tumor_inf_df[\"Last Tumor Voume (Infubinol)(mm3)\"])\n",
    "volumes_inf.sort()\n",
    "volumes_inf #one Infubiol datapoint is outside bounds\n",
    "volumes_inf.remove(36.321345799999996)\n",
    "volumes_inf #outlier has been removed"
   ]
  },
  {
   "cell_type": "code",
   "execution_count": 18,
   "metadata": {},
   "outputs": [
    {
     "name": "stdout",
     "output_type": "stream",
     "text": [
      "Values below Last Tumor Voume (Ceftamin)(mm3)    25.35545\n",
      "dtype: float64 could be outliers.\n",
      "Values above Last Tumor Voume (Ceftamin)(mm3)    87.666458\n",
      "dtype: float64 could be outliers.\n"
     ]
    },
    {
     "data": {
      "text/plain": [
       "[45.0,\n",
       " 45.0,\n",
       " 45.0,\n",
       " 45.0,\n",
       " 46.78453491,\n",
       " 47.784681799999994,\n",
       " 48.72207785,\n",
       " 52.92534846,\n",
       " 55.74282869,\n",
       " 56.05774909,\n",
       " 57.91838132,\n",
       " 59.74190064,\n",
       " 59.85195552,\n",
       " 61.38666032,\n",
       " 61.43389223,\n",
       " 61.84902336,\n",
       " 62.99935619,\n",
       " 64.19234114,\n",
       " 64.29983003,\n",
       " 64.63494887,\n",
       " 64.72983655,\n",
       " 67.52748237,\n",
       " 67.74866174,\n",
       " 68.59474498,\n",
       " 68.92318457]"
      ]
     },
     "execution_count": 18,
     "metadata": {},
     "output_type": "execute_result"
    }
   ],
   "source": [
    "last_tumor_cef_df = pd.DataFrame({\"Last Tumor Voume (Ceftamin)(mm3)\":last_tumor_vol[3]})\n",
    "quartiles_cef = last_tumor_cef_df.quantile([.25,.5,.75])\n",
    "lowerq_cef = quartiles_cef.loc[0.25]\n",
    "upperq_cef = quartiles_cef.loc[0.75]\n",
    "iqr_cef = upperq_cef - lowerq_cef\n",
    "lower_bound_cef = lowerq_cef - (1.5*iqr_cef)\n",
    "upper_bound_cef = upperq_cef + (1.5*iqr_cef)\n",
    "print(f\"Values below {lower_bound_cef} could be outliers.\")\n",
    "print(f\"Values above {upper_bound_cef} could be outliers.\")\n",
    "volumes_cef = list(last_tumor_cef_df[\"Last Tumor Voume (Ceftamin)(mm3)\"])\n",
    "volumes_cef.sort()\n",
    "volumes_cef #all Ceftamin datapoints are within bounds"
   ]
  },
  {
   "cell_type": "code",
   "execution_count": 19,
   "metadata": {},
   "outputs": [
    {
     "data": {
      "image/png": "[encoded data removed]",
      "text/plain": [
       "<Figure size 432x288 with 1 Axes>"
      ]
     },
     "metadata": {
      "needs_background": "light"
     },
     "output_type": "display_data"
    }
   ],
   "source": [
    "# Generate a box plot of the final tumor volume of each mouse across four regimens of interest\n",
    "fig1, ax1 = plt.subplots()\n",
    "ax1.set_title('Tumor Volumes at Last Timepoints (with outliers)')\n",
    "ax1.set_ylabel('Tumor Volume (mm3)')\n",
    "ax1.boxplot(last_tumor_vol)\n",
    "plt.xticks([1,2,3,4],four_drugs)\n",
    "plt.show()\n"
   ]
  },
  {
   "cell_type": "code",
   "execution_count": 20,
   "metadata": {},
   "outputs": [
    {
     "data": {
      "image/png": "[encoded data removed]",
      "text/plain": [
       "<Figure size 432x288 with 1 Axes>"
      ]
     },
     "metadata": {
      "needs_background": "light"
     },
     "output_type": "display_data"
    }
   ],
   "source": [
    "cleaned_last_tumor_vol = [volumes_cap,volumes_ram,volumes_inf,volumes_cef]\n",
    "fig1, ax1 = plt.subplots()\n",
    "ax1.set_title('Tumor Volumes at Last Timepoints (without outliers)')\n",
    "ax1.set_ylabel('Tumor Volume (mm3)')\n",
    "ax1.boxplot(cleaned_last_tumor_vol)\n",
    "plt.xticks([1,2,3,4],four_drugs)\n",
    "plt.show()"
   ]
  },
  {
   "cell_type": "markdown",
   "metadata": {},
   "source": [
    "## Line and Scatter Plots"
   ]
  },
  {
   "cell_type": "code",
   "execution_count": 21,
   "metadata": {},
   "outputs": [
    {
     "data": {
      "text/plain": [
       "[<matplotlib.lines.Line2D at 0x16d33f82748>]"
      ]
     },
     "execution_count": 21,
     "metadata": {},
     "output_type": "execute_result"
    },
    {
     "data": {
      "image/png": "[encoded data removed]",
      "text/plain": [
       "<Figure size 432x288 with 1 Axes>"
      ]
     },
     "metadata": {
      "needs_background": "light"
     },
     "output_type": "display_data"
    }
   ],
   "source": [
    "# Generate a line plot of tumor volume vs. timepoint for a mouse treated with Capomulin\n",
    "mouse_s185 = cleaned_data.loc[cleaned_data[\"Mouse ID\"] == \"s185\"]\n",
    "plt.plot(mouse_s185[\"Timepoint\"], mouse_s185[\"Tumor Volume (mm3)\"])\n"
   ]
  },
  {
   "cell_type": "code",
   "execution_count": 22,
   "metadata": {},
   "outputs": [
    {
     "data": {
      "text/plain": [
       "<matplotlib.collections.PathCollection at 0x16d33ff8348>"
      ]
     },
     "execution_count": 22,
     "metadata": {},
     "output_type": "execute_result"
    },
    {
     "data": {
      "image/png": "[encoded data removed]",
      "text/plain": [
       "<Figure size 432x288 with 1 Axes>"
      ]
     },
     "metadata": {
      "needs_background": "light"
     },
     "output_type": "display_data"
    }
   ],
   "source": [
    "# Generate a scatter plot of average tumor volume vs. mouse weight for the Capomulin regimen\n",
    "capo_regimen = cleaned_data.loc[cleaned_data[\"Drug Regimen\"] == \"Capomulin\"]\n",
    "avg_tumor_vol_by_mouse = capo_regimen.groupby([\"Mouse ID\", \"Weight (g)\"])[\"Tumor Volume (mm3)\"].mean()\n",
    "\n",
    "avg_tumor_vol_by_mouse_df = pd.DataFrame(avg_tumor_vol_by_mouse)\n",
    "avg_tumor_vol_by_mouse_df = avg_tumor_vol_by_mouse_df.reset_index()\n",
    "avg_tumor_vol_by_mouse_df\n",
    "\n",
    "x_axis = avg_tumor_vol_by_mouse_df[\"Weight (g)\"]\n",
    "data = avg_tumor_vol_by_mouse_df[\"Tumor Volume (mm3)\"]\n",
    "plt.scatter(x_axis, data) \n",
    "            \n",
    "            #marker=\"o\", facecolors=\"red\", edgecolors=\"black\",\n",
    "            #s=x_axis, alpha=0.75)"
   ]
  },
  {
   "cell_type": "markdown",
   "metadata": {},
   "source": [
    "## Correlation and Regression"
   ]
  },
  {
   "cell_type": "code",
   "execution_count": 23,
   "metadata": {},
   "outputs": [
    {
     "name": "stdout",
     "output_type": "stream",
     "text": [
      "The correlation between both factors is 0.84\n"
     ]
    },
    {
     "data": {
      "image/png": "[encoded data removed]",
      "text/plain": [
       "<Figure size 432x288 with 1 Axes>"
      ]
     },
     "metadata": {
      "needs_background": "light"
     },
     "output_type": "display_data"
    }
   ],
   "source": [
    "# Calculate the correlation coefficient and linear regression model \n",
    "# for mouse weight and average tumor volume for the Capomulin regimen\n",
    "correlation = st.pearsonr(avg_tumor_vol_by_mouse_df[\"Weight (g)\"],avg_tumor_vol_by_mouse_df[\"Tumor Volume (mm3)\"])\n",
    "print(f\"The correlation between both factors is {round(correlation[0],2)}\")\n",
    "\n",
    "x_values = avg_tumor_vol_by_mouse_df[\"Weight (g)\"]\n",
    "y_values = avg_tumor_vol_by_mouse_df[\"Tumor Volume (mm3)\"]\n",
    "(slope, intercept, rvalue, pvalue, stderr) = st.linregress(x_values, y_values)\n",
    "regress_values = x_values * slope + intercept\n",
    "line_eq = \"y = \" + str(round(slope,2)) + \"x + \" + str(round(intercept,2))\n",
    "plt.scatter(x_values,y_values)\n",
    "plt.plot(x_values,regress_values,\"r-\")\n",
    "plt.annotate(line_eq, (20,36),fontsize=15,color=\"red\") \n",
    "plt.xlabel('Mouse Wight (g)')\n",
    "plt.ylabel('Average Tumor Volume (mm3)')\n",
    "plt.show()"
   ]
  },
  {
   "cell_type": "code",
   "execution_count": null,
   "metadata": {},
   "outputs": [],
   "source": []
  }
 ],
 "metadata": {
  "anaconda-cloud": {},
  "kernelspec": {
   "display_name": "PythonData",
   "language": "python",
   "name": "pythondata"
  },
  "language_info": {
   "codemirror_mode": {
    "name": "ipython",
    "version": 3
   },
   "file_extension": ".py",
   "mimetype": "text/x-python",
   "name": "python",
   "nbconvert_exporter": "python",
   "pygments_lexer": "ipython3",
   "version": "3.7.7"
  }
 },
 "nbformat": 4,
 "nbformat_minor": 4
}
